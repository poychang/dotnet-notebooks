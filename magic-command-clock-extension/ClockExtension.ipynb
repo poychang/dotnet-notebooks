{
 "metadata": {
  "kernelspec": {
   "display_name": ".NET (C#)",
   "language": "C#",
   "name": ".net-csharp"
  },
  "language_info": {
   "name": "C#"
  }
 },
 "cells": [
  {
   "cell_type": "markdown",
   "source": [
    "# The ClockExtension Sample\r\n",
    "\r\n",
    "官方範例，詳請參考[這裡](https://github.com/dotnet/interactive/blob/2d93fa1ec3326e510d4383446d7f41c4beb6d2bb/samples/extensions/readme.md)。\r\n",
    "\r\n",
    "此範例將建立一個 NuGet 套件，用於在 .NET Interactive Notebook 中顯示時鐘。\r\n",
    "\r\n",
    ">第一次使用此 Notebook 請務必執行以下建置專案的指令。"
   ],
   "metadata": {
    "dotnet_interactive": {
     "language": "csharp"
    }
   }
  },
  {
   "cell_type": "code",
   "execution_count": null,
   "source": [
    "#!pwsh\r\n",
    "# 1. 建置專案\r\n",
    "dotnet build\r\n",
    "\r\n",
    "# 2. 打包成 NuGet 套件。請注意，每次打包時請遞增版本號，因為安裝之後，該套件會快取在 NuGet Cache 中，每次增加版本號可以避免找不到正確版本的問題\r\n",
    "dotnet pack /p:PackageVersion=1.3.5\r\n",
    "\r\n",
    "# 3. 檢查 NuGet 套件是否存在\r\n",
    "Get-ChildItem -Recurse ClockExtension*.nupkg"
   ],
   "outputs": [],
   "metadata": {
    "dotnet_interactive": {
     "language": "pwsh"
    }
   }
  },
  {
   "cell_type": "markdown",
   "source": [
    "在 Notebook 中指定 NuGet 的來源位置為上述專案所輸出的位置，並安裝指定版本的 ClockExtension 套件。"
   ],
   "metadata": {}
  },
  {
   "cell_type": "code",
   "execution_count": null,
   "source": [
    "#i nuget:C:\\Users\\poychang\\Code\\Github\\dotnet-notebooks\\magic-command-clock-extension\\ClockExtension\\bin\\Debug\\\r\n",
    "#r \"nuget:ClockExtension,1.3.5\""
   ],
   "outputs": [],
   "metadata": {
    "dotnet_interactive": {
     "language": "csharp"
    }
   }
  },
  {
   "cell_type": "markdown",
   "source": [
    "專案中有使用 `Microsoft.DotNet.Interactive.Formatting` 來對 `DateTime` 型別做客製化輸出，因此在 Notebook 中直接執行 `DateTime.Now` 輸出的不是時間格式，而是時鐘樣式。"
   ],
   "metadata": {}
  },
  {
   "cell_type": "code",
   "execution_count": null,
   "source": [
    "DateTime.Now"
   ],
   "outputs": [],
   "metadata": {
    "dotnet_interactive": {
     "language": "csharp"
    }
   }
  },
  {
   "cell_type": "markdown",
   "source": [
    "一般來說，會建議增加 `#!clock -h` 這個指令，來說明該 Magic Command 的使用方式。"
   ],
   "metadata": {}
  },
  {
   "cell_type": "code",
   "execution_count": null,
   "source": [
    "#!clock -h"
   ],
   "outputs": [],
   "metadata": {
    "dotnet_interactive": {
     "language": "csharp"
    }
   }
  },
  {
   "cell_type": "markdown",
   "source": [
    "如此一來，使用者將容易參考該說明，來設定該 Magic Command 的執行參數。"
   ],
   "metadata": {}
  },
  {
   "cell_type": "code",
   "execution_count": null,
   "source": [
    "#!clock --hour 1 -m 2 -s 3"
   ],
   "outputs": [],
   "metadata": {
    "dotnet_interactive": {
     "language": "csharp"
    }
   }
  }
 ],
 "nbformat": 4,
 "nbformat_minor": 2
}