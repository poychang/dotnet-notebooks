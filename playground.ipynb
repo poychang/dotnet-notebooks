{
 "cells": [
  {
   "cell_type": "markdown",
   "source": [
    "# .NET Notebook Playground\r\n",
    "\r\n",
    "Just play with .NET interactive notebook"
   ],
   "metadata": {}
  },
  {
   "cell_type": "code",
   "execution_count": null,
   "source": [
    "#!value --name data --mime-type application/json\r\n",
    "\r\n",
    "{\r\n",
    "    \"name\": \"Poy Chang\"\r\n",
    "}"
   ],
   "outputs": [],
   "metadata": {
    "dotnet_interactive": {
     "language": "csharp"
    }
   }
  },
  {
   "cell_type": "code",
   "execution_count": null,
   "source": [
    "#!share data --from value\r\n",
    "using System.Text.Json;\r\n",
    "var obj = JsonSerializer.Deserialize<object>(data);\r\n",
    "display(obj);"
   ],
   "outputs": [],
   "metadata": {
    "dotnet_interactive": {
     "language": "csharp"
    }
   }
  }
 ],
 "metadata": {
  "kernelspec": {
   "display_name": ".NET (C#)",
   "language": "C#",
   "name": ".net-csharp"
  },
  "language_info": {
   "name": "dotnet-interactive.csharp"
  },
  "orig_nbformat": 2
 },
 "nbformat": 4,
 "nbformat_minor": 2
}